{
 "cells": [
  {
   "cell_type": "markdown",
   "id": "a17aa87e",
   "metadata": {},
   "source": [
    "# Examples\n",
    "\n",
    "This page contains a few examples of how you can use GDELT Climate Risk package.\n",
    "\n",
    "## Installation\n",
    "\n",
    "You can install GDELT Climate Risk using `pip`:"
   ]
  },
  {
   "cell_type": "code",
   "execution_count": 1,
   "id": "72f5d47c",
   "metadata": {},
   "outputs": [
    {
     "name": "stdout",
     "output_type": "stream",
     "text": [
      "Requirement already satisfied: gdelt-climaterisk in /opt/hostedtoolcache/Python/3.9.21/x64/lib/python3.9/site-packages (0.3.0)\r\n",
      "Requirement already satisfied: click<9.0.0,>=8.1.3 in /opt/hostedtoolcache/Python/3.9.21/x64/lib/python3.9/site-packages (from gdelt-climaterisk) (8.1.7)\r\n",
      "Requirement already satisfied: crawl4ai<0.5.0,>=0.4.247 in /opt/hostedtoolcache/Python/3.9.21/x64/lib/python3.9/site-packages (from gdelt-climaterisk) (0.4.248)\r\n",
      "Requirement already satisfied: firecrawl-py<2.0.0,>=1.10.1 in /opt/hostedtoolcache/Python/3.9.21/x64/lib/python3.9/site-packages (from gdelt-climaterisk) (1.14.1)\r\n"
     ]
    },
    {
     "name": "stdout",
     "output_type": "stream",
     "text": [
      "Requirement already satisfied: gdelt<0.2.0,>=0.1.14 in /opt/hostedtoolcache/Python/3.9.21/x64/lib/python3.9/site-packages (from gdelt-climaterisk) (0.1.14)\r\n",
      "Requirement already satisfied: hyfi<2.0.0,>=1.36.4 in /opt/hostedtoolcache/Python/3.9.21/x64/lib/python3.9/site-packages (from gdelt-climaterisk) (1.37.0)\r\n",
      "Requirement already satisfied: nest-asyncio<2.0.0,>=1.6.0 in /opt/hostedtoolcache/Python/3.9.21/x64/lib/python3.9/site-packages (from gdelt-climaterisk) (1.6.0)\r\n",
      "Requirement already satisfied: pandas<=2.2.2,>=1.5.3 in /opt/hostedtoolcache/Python/3.9.21/x64/lib/python3.9/site-packages (from gdelt-climaterisk) (2.2.2)\r\n",
      "Requirement already satisfied: aiosqlite~=0.20 in /opt/hostedtoolcache/Python/3.9.21/x64/lib/python3.9/site-packages (from crawl4ai<0.5.0,>=0.4.247->gdelt-climaterisk) (0.21.0)\r\n",
      "Requirement already satisfied: lxml~=5.3 in /opt/hostedtoolcache/Python/3.9.21/x64/lib/python3.9/site-packages (from crawl4ai<0.5.0,>=0.4.247->gdelt-climaterisk) (5.3.1)\r\n",
      "Requirement already satisfied: litellm>=1.53.1 in /opt/hostedtoolcache/Python/3.9.21/x64/lib/python3.9/site-packages (from crawl4ai<0.5.0,>=0.4.247->gdelt-climaterisk) (1.63.11)\r\n",
      "Requirement already satisfied: numpy<3,>=1.26.0 in /opt/hostedtoolcache/Python/3.9.21/x64/lib/python3.9/site-packages (from crawl4ai<0.5.0,>=0.4.247->gdelt-climaterisk) (2.0.2)\r\n",
      "Requirement already satisfied: pillow~=10.4 in /opt/hostedtoolcache/Python/3.9.21/x64/lib/python3.9/site-packages (from crawl4ai<0.5.0,>=0.4.247->gdelt-climaterisk) (10.4.0)\r\n",
      "Requirement already satisfied: playwright>=1.49.0 in /opt/hostedtoolcache/Python/3.9.21/x64/lib/python3.9/site-packages (from crawl4ai<0.5.0,>=0.4.247->gdelt-climaterisk) (1.51.0)\r\n",
      "Requirement already satisfied: python-dotenv~=1.0 in /opt/hostedtoolcache/Python/3.9.21/x64/lib/python3.9/site-packages (from crawl4ai<0.5.0,>=0.4.247->gdelt-climaterisk) (1.0.1)\r\n",
      "Requirement already satisfied: requests~=2.26 in /opt/hostedtoolcache/Python/3.9.21/x64/lib/python3.9/site-packages (from crawl4ai<0.5.0,>=0.4.247->gdelt-climaterisk) (2.32.3)\r\n",
      "Requirement already satisfied: beautifulsoup4~=4.12 in /opt/hostedtoolcache/Python/3.9.21/x64/lib/python3.9/site-packages (from crawl4ai<0.5.0,>=0.4.247->gdelt-climaterisk) (4.13.3)\r\n",
      "Requirement already satisfied: tf-playwright-stealth>=1.1.0 in /opt/hostedtoolcache/Python/3.9.21/x64/lib/python3.9/site-packages (from crawl4ai<0.5.0,>=0.4.247->gdelt-climaterisk) (1.1.2)\r\n",
      "Requirement already satisfied: xxhash~=3.4 in /opt/hostedtoolcache/Python/3.9.21/x64/lib/python3.9/site-packages (from crawl4ai<0.5.0,>=0.4.247->gdelt-climaterisk) (3.5.0)\r\n",
      "Requirement already satisfied: rank-bm25~=0.2 in /opt/hostedtoolcache/Python/3.9.21/x64/lib/python3.9/site-packages (from crawl4ai<0.5.0,>=0.4.247->gdelt-climaterisk) (0.2.2)\r\n",
      "Requirement already satisfied: aiofiles>=24.1.0 in /opt/hostedtoolcache/Python/3.9.21/x64/lib/python3.9/site-packages (from crawl4ai<0.5.0,>=0.4.247->gdelt-climaterisk) (24.1.0)\r\n",
      "Requirement already satisfied: colorama~=0.4 in /opt/hostedtoolcache/Python/3.9.21/x64/lib/python3.9/site-packages (from crawl4ai<0.5.0,>=0.4.247->gdelt-climaterisk) (0.4.6)\r\n",
      "Requirement already satisfied: snowballstemmer~=2.2 in /opt/hostedtoolcache/Python/3.9.21/x64/lib/python3.9/site-packages (from crawl4ai<0.5.0,>=0.4.247->gdelt-climaterisk) (2.2.0)\r\n",
      "Requirement already satisfied: pydantic>=2.10 in /opt/hostedtoolcache/Python/3.9.21/x64/lib/python3.9/site-packages (from crawl4ai<0.5.0,>=0.4.247->gdelt-climaterisk) (2.10.6)\r\n",
      "Requirement already satisfied: pyOpenSSL>=24.3.0 in /opt/hostedtoolcache/Python/3.9.21/x64/lib/python3.9/site-packages (from crawl4ai<0.5.0,>=0.4.247->gdelt-climaterisk) (25.0.0)\r\n",
      "Requirement already satisfied: psutil>=6.1.1 in /opt/hostedtoolcache/Python/3.9.21/x64/lib/python3.9/site-packages (from crawl4ai<0.5.0,>=0.4.247->gdelt-climaterisk) (7.0.0)\r\n",
      "Requirement already satisfied: nltk>=3.9.1 in /opt/hostedtoolcache/Python/3.9.21/x64/lib/python3.9/site-packages (from crawl4ai<0.5.0,>=0.4.247->gdelt-climaterisk) (3.9.1)\r\n",
      "Requirement already satisfied: rich>=13.9.4 in /opt/hostedtoolcache/Python/3.9.21/x64/lib/python3.9/site-packages (from crawl4ai<0.5.0,>=0.4.247->gdelt-climaterisk) (13.9.4)\r\n",
      "Requirement already satisfied: cssselect>=1.2.0 in /opt/hostedtoolcache/Python/3.9.21/x64/lib/python3.9/site-packages (from crawl4ai<0.5.0,>=0.4.247->gdelt-climaterisk) (1.3.0)\r\n",
      "Requirement already satisfied: httpx==0.27.2 in /opt/hostedtoolcache/Python/3.9.21/x64/lib/python3.9/site-packages (from crawl4ai<0.5.0,>=0.4.247->gdelt-climaterisk) (0.27.2)\r\n",
      "Requirement already satisfied: fake-useragent>=2.0.3 in /opt/hostedtoolcache/Python/3.9.21/x64/lib/python3.9/site-packages (from crawl4ai<0.5.0,>=0.4.247->gdelt-climaterisk) (2.1.0)\r\n",
      "Requirement already satisfied: anyio in /opt/hostedtoolcache/Python/3.9.21/x64/lib/python3.9/site-packages (from httpx==0.27.2->crawl4ai<0.5.0,>=0.4.247->gdelt-climaterisk) (4.9.0)\r\n",
      "Requirement already satisfied: certifi in /opt/hostedtoolcache/Python/3.9.21/x64/lib/python3.9/site-packages (from httpx==0.27.2->crawl4ai<0.5.0,>=0.4.247->gdelt-climaterisk) (2025.1.31)\r\n",
      "Requirement already satisfied: httpcore==1.* in /opt/hostedtoolcache/Python/3.9.21/x64/lib/python3.9/site-packages (from httpx==0.27.2->crawl4ai<0.5.0,>=0.4.247->gdelt-climaterisk) (1.0.7)\r\n",
      "Requirement already satisfied: idna in /opt/hostedtoolcache/Python/3.9.21/x64/lib/python3.9/site-packages (from httpx==0.27.2->crawl4ai<0.5.0,>=0.4.247->gdelt-climaterisk) (3.10)\r\n",
      "Requirement already satisfied: sniffio in /opt/hostedtoolcache/Python/3.9.21/x64/lib/python3.9/site-packages (from httpx==0.27.2->crawl4ai<0.5.0,>=0.4.247->gdelt-climaterisk) (1.3.1)\r\n",
      "Requirement already satisfied: h11<0.15,>=0.13 in /opt/hostedtoolcache/Python/3.9.21/x64/lib/python3.9/site-packages (from httpcore==1.*->httpx==0.27.2->crawl4ai<0.5.0,>=0.4.247->gdelt-climaterisk) (0.14.0)\r\n",
      "Requirement already satisfied: websockets in /opt/hostedtoolcache/Python/3.9.21/x64/lib/python3.9/site-packages (from firecrawl-py<2.0.0,>=1.10.1->gdelt-climaterisk) (15.0.1)\r\n",
      "Requirement already satisfied: python-dateutil>=2.8.2 in /opt/hostedtoolcache/Python/3.9.21/x64/lib/python3.9/site-packages (from gdelt<0.2.0,>=0.1.14->gdelt-climaterisk) (2.9.0.post0)\r\n"
     ]
    },
    {
     "name": "stdout",
     "output_type": "stream",
     "text": [
      "Requirement already satisfied: chardet<=5.2.0 in /opt/hostedtoolcache/Python/3.9.21/x64/lib/python3.9/site-packages (from hyfi<2.0.0,>=1.36.4->gdelt-climaterisk) (5.2.0)\r\n",
      "Requirement already satisfied: datasets<=2.21.0,>=2.0.0 in /opt/hostedtoolcache/Python/3.9.21/x64/lib/python3.9/site-packages (from hyfi<2.0.0,>=1.36.4->gdelt-climaterisk) (2.21.0)\r\n",
      "Requirement already satisfied: gdown<=5.2.0 in /opt/hostedtoolcache/Python/3.9.21/x64/lib/python3.9/site-packages (from hyfi<2.0.0,>=1.36.4->gdelt-climaterisk) (5.2.0)\r\n",
      "Requirement already satisfied: hydra-colorlog<2.0.0,>=1.2.0 in /opt/hostedtoolcache/Python/3.9.21/x64/lib/python3.9/site-packages (from hyfi<2.0.0,>=1.36.4->gdelt-climaterisk) (1.2.0)\r\n",
      "Requirement already satisfied: hydra-core<2.0.0,>=1.3.2 in /opt/hostedtoolcache/Python/3.9.21/x64/lib/python3.9/site-packages (from hyfi<2.0.0,>=1.36.4->gdelt-climaterisk) (1.3.2)\r\n",
      "Requirement already satisfied: joblib<=1.4.2,>=1.2.0 in /opt/hostedtoolcache/Python/3.9.21/x64/lib/python3.9/site-packages (from hyfi<2.0.0,>=1.36.4->gdelt-climaterisk) (1.4.2)\r\n",
      "Requirement already satisfied: matplotlib<=3.9.2 in /opt/hostedtoolcache/Python/3.9.21/x64/lib/python3.9/site-packages (from hyfi<2.0.0,>=1.36.4->gdelt-climaterisk) (3.9.2)\r\n",
      "Requirement already satisfied: pathspec>=0.9.0 in /opt/hostedtoolcache/Python/3.9.21/x64/lib/python3.9/site-packages (from hyfi<2.0.0,>=1.36.4->gdelt-climaterisk) (0.12.1)\r\n",
      "Requirement already satisfied: pyarrow<=17.0.0 in /opt/hostedtoolcache/Python/3.9.21/x64/lib/python3.9/site-packages (from hyfi<2.0.0,>=1.36.4->gdelt-climaterisk) (17.0.0)\r\n",
      "Requirement already satisfied: pydantic-settings<3.0.0,>=2.0.1 in /opt/hostedtoolcache/Python/3.9.21/x64/lib/python3.9/site-packages (from hyfi<2.0.0,>=1.36.4->gdelt-climaterisk) (2.8.1)\r\n",
      "Requirement already satisfied: scipy<=1.13.1,>1.10.0 in /opt/hostedtoolcache/Python/3.9.21/x64/lib/python3.9/site-packages (from hyfi<2.0.0,>=1.36.4->gdelt-climaterisk) (1.13.1)\r\n",
      "Requirement already satisfied: tqdm<5.0.0,>=4.64.1 in /opt/hostedtoolcache/Python/3.9.21/x64/lib/python3.9/site-packages (from hyfi<2.0.0,>=1.36.4->gdelt-climaterisk) (4.67.1)\r\n",
      "Requirement already satisfied: pytz>=2020.1 in /opt/hostedtoolcache/Python/3.9.21/x64/lib/python3.9/site-packages (from pandas<=2.2.2,>=1.5.3->gdelt-climaterisk) (2025.1)\r\n",
      "Requirement already satisfied: tzdata>=2022.7 in /opt/hostedtoolcache/Python/3.9.21/x64/lib/python3.9/site-packages (from pandas<=2.2.2,>=1.5.3->gdelt-climaterisk) (2025.1)\r\n",
      "Requirement already satisfied: typing_extensions>=4.0 in /opt/hostedtoolcache/Python/3.9.21/x64/lib/python3.9/site-packages (from aiosqlite~=0.20->crawl4ai<0.5.0,>=0.4.247->gdelt-climaterisk) (4.12.2)\r\n"
     ]
    },
    {
     "name": "stdout",
     "output_type": "stream",
     "text": [
      "Requirement already satisfied: soupsieve>1.2 in /opt/hostedtoolcache/Python/3.9.21/x64/lib/python3.9/site-packages (from beautifulsoup4~=4.12->crawl4ai<0.5.0,>=0.4.247->gdelt-climaterisk) (2.6)\r\n"
     ]
    },
    {
     "name": "stdout",
     "output_type": "stream",
     "text": [
      "Requirement already satisfied: filelock in /opt/hostedtoolcache/Python/3.9.21/x64/lib/python3.9/site-packages (from datasets<=2.21.0,>=2.0.0->hyfi<2.0.0,>=1.36.4->gdelt-climaterisk) (3.18.0)\r\n",
      "Requirement already satisfied: dill<0.3.9,>=0.3.0 in /opt/hostedtoolcache/Python/3.9.21/x64/lib/python3.9/site-packages (from datasets<=2.21.0,>=2.0.0->hyfi<2.0.0,>=1.36.4->gdelt-climaterisk) (0.3.8)\r\n",
      "Requirement already satisfied: multiprocess in /opt/hostedtoolcache/Python/3.9.21/x64/lib/python3.9/site-packages (from datasets<=2.21.0,>=2.0.0->hyfi<2.0.0,>=1.36.4->gdelt-climaterisk) (0.70.16)\r\n",
      "Requirement already satisfied: fsspec<=2024.6.1,>=2023.1.0 in /opt/hostedtoolcache/Python/3.9.21/x64/lib/python3.9/site-packages (from fsspec[http]<=2024.6.1,>=2023.1.0->datasets<=2.21.0,>=2.0.0->hyfi<2.0.0,>=1.36.4->gdelt-climaterisk) (2024.6.1)\r\n",
      "Requirement already satisfied: aiohttp in /opt/hostedtoolcache/Python/3.9.21/x64/lib/python3.9/site-packages (from datasets<=2.21.0,>=2.0.0->hyfi<2.0.0,>=1.36.4->gdelt-climaterisk) (3.11.14)\r\n",
      "Requirement already satisfied: huggingface-hub>=0.21.2 in /opt/hostedtoolcache/Python/3.9.21/x64/lib/python3.9/site-packages (from datasets<=2.21.0,>=2.0.0->hyfi<2.0.0,>=1.36.4->gdelt-climaterisk) (0.29.3)\r\n",
      "Requirement already satisfied: packaging in /opt/hostedtoolcache/Python/3.9.21/x64/lib/python3.9/site-packages (from datasets<=2.21.0,>=2.0.0->hyfi<2.0.0,>=1.36.4->gdelt-climaterisk) (24.2)\r\n",
      "Requirement already satisfied: pyyaml>=5.1 in /opt/hostedtoolcache/Python/3.9.21/x64/lib/python3.9/site-packages (from datasets<=2.21.0,>=2.0.0->hyfi<2.0.0,>=1.36.4->gdelt-climaterisk) (6.0.2)\r\n",
      "Requirement already satisfied: importlib-resources>=6.0 in /opt/hostedtoolcache/Python/3.9.21/x64/lib/python3.9/site-packages (from fake-useragent>=2.0.3->crawl4ai<0.5.0,>=0.4.247->gdelt-climaterisk) (6.5.2)\r\n",
      "Requirement already satisfied: colorlog in /opt/hostedtoolcache/Python/3.9.21/x64/lib/python3.9/site-packages (from hydra-colorlog<2.0.0,>=1.2.0->hyfi<2.0.0,>=1.36.4->gdelt-climaterisk) (6.9.0)\r\n",
      "Requirement already satisfied: omegaconf<2.4,>=2.2 in /opt/hostedtoolcache/Python/3.9.21/x64/lib/python3.9/site-packages (from hydra-core<2.0.0,>=1.3.2->hyfi<2.0.0,>=1.36.4->gdelt-climaterisk) (2.3.0)\r\n",
      "Requirement already satisfied: antlr4-python3-runtime==4.9.* in /opt/hostedtoolcache/Python/3.9.21/x64/lib/python3.9/site-packages (from hydra-core<2.0.0,>=1.3.2->hyfi<2.0.0,>=1.36.4->gdelt-climaterisk) (4.9.3)\r\n",
      "Requirement already satisfied: importlib-metadata>=6.8.0 in /opt/hostedtoolcache/Python/3.9.21/x64/lib/python3.9/site-packages (from litellm>=1.53.1->crawl4ai<0.5.0,>=0.4.247->gdelt-climaterisk) (8.6.1)\r\n",
      "Requirement already satisfied: jinja2<4.0.0,>=3.1.2 in /opt/hostedtoolcache/Python/3.9.21/x64/lib/python3.9/site-packages (from litellm>=1.53.1->crawl4ai<0.5.0,>=0.4.247->gdelt-climaterisk) (3.1.6)\r\n",
      "Requirement already satisfied: jsonschema<5.0.0,>=4.22.0 in /opt/hostedtoolcache/Python/3.9.21/x64/lib/python3.9/site-packages (from litellm>=1.53.1->crawl4ai<0.5.0,>=0.4.247->gdelt-climaterisk) (4.23.0)\r\n",
      "Requirement already satisfied: openai>=1.66.1 in /opt/hostedtoolcache/Python/3.9.21/x64/lib/python3.9/site-packages (from litellm>=1.53.1->crawl4ai<0.5.0,>=0.4.247->gdelt-climaterisk) (1.66.3)\r\n",
      "Requirement already satisfied: tiktoken>=0.7.0 in /opt/hostedtoolcache/Python/3.9.21/x64/lib/python3.9/site-packages (from litellm>=1.53.1->crawl4ai<0.5.0,>=0.4.247->gdelt-climaterisk) (0.9.0)\r\n",
      "Requirement already satisfied: tokenizers in /opt/hostedtoolcache/Python/3.9.21/x64/lib/python3.9/site-packages (from litellm>=1.53.1->crawl4ai<0.5.0,>=0.4.247->gdelt-climaterisk) (0.21.1)\r\n",
      "Requirement already satisfied: contourpy>=1.0.1 in /opt/hostedtoolcache/Python/3.9.21/x64/lib/python3.9/site-packages (from matplotlib<=3.9.2->hyfi<2.0.0,>=1.36.4->gdelt-climaterisk) (1.3.0)\r\n",
      "Requirement already satisfied: cycler>=0.10 in /opt/hostedtoolcache/Python/3.9.21/x64/lib/python3.9/site-packages (from matplotlib<=3.9.2->hyfi<2.0.0,>=1.36.4->gdelt-climaterisk) (0.12.1)\r\n",
      "Requirement already satisfied: fonttools>=4.22.0 in /opt/hostedtoolcache/Python/3.9.21/x64/lib/python3.9/site-packages (from matplotlib<=3.9.2->hyfi<2.0.0,>=1.36.4->gdelt-climaterisk) (4.56.0)\r\n",
      "Requirement already satisfied: kiwisolver>=1.3.1 in /opt/hostedtoolcache/Python/3.9.21/x64/lib/python3.9/site-packages (from matplotlib<=3.9.2->hyfi<2.0.0,>=1.36.4->gdelt-climaterisk) (1.4.7)\r\n",
      "Requirement already satisfied: pyparsing>=2.3.1 in /opt/hostedtoolcache/Python/3.9.21/x64/lib/python3.9/site-packages (from matplotlib<=3.9.2->hyfi<2.0.0,>=1.36.4->gdelt-climaterisk) (3.2.1)\r\n",
      "Requirement already satisfied: regex>=2021.8.3 in /opt/hostedtoolcache/Python/3.9.21/x64/lib/python3.9/site-packages (from nltk>=3.9.1->crawl4ai<0.5.0,>=0.4.247->gdelt-climaterisk) (2024.11.6)\r\n"
     ]
    },
    {
     "name": "stdout",
     "output_type": "stream",
     "text": [
      "Requirement already satisfied: pyee<13,>=12 in /opt/hostedtoolcache/Python/3.9.21/x64/lib/python3.9/site-packages (from playwright>=1.49.0->crawl4ai<0.5.0,>=0.4.247->gdelt-climaterisk) (12.1.1)\r\n",
      "Requirement already satisfied: greenlet<4.0.0,>=3.1.1 in /opt/hostedtoolcache/Python/3.9.21/x64/lib/python3.9/site-packages (from playwright>=1.49.0->crawl4ai<0.5.0,>=0.4.247->gdelt-climaterisk) (3.1.1)\r\n",
      "Requirement already satisfied: annotated-types>=0.6.0 in /opt/hostedtoolcache/Python/3.9.21/x64/lib/python3.9/site-packages (from pydantic>=2.10->crawl4ai<0.5.0,>=0.4.247->gdelt-climaterisk) (0.7.0)\r\n",
      "Requirement already satisfied: pydantic-core==2.27.2 in /opt/hostedtoolcache/Python/3.9.21/x64/lib/python3.9/site-packages (from pydantic>=2.10->crawl4ai<0.5.0,>=0.4.247->gdelt-climaterisk) (2.27.2)\r\n",
      "Requirement already satisfied: cryptography<45,>=41.0.5 in /opt/hostedtoolcache/Python/3.9.21/x64/lib/python3.9/site-packages (from pyOpenSSL>=24.3.0->crawl4ai<0.5.0,>=0.4.247->gdelt-climaterisk) (44.0.2)\r\n",
      "Requirement already satisfied: six>=1.5 in /opt/hostedtoolcache/Python/3.9.21/x64/lib/python3.9/site-packages (from python-dateutil>=2.8.2->gdelt<0.2.0,>=0.1.14->gdelt-climaterisk) (1.17.0)\r\n",
      "Requirement already satisfied: charset-normalizer<4,>=2 in /opt/hostedtoolcache/Python/3.9.21/x64/lib/python3.9/site-packages (from requests~=2.26->crawl4ai<0.5.0,>=0.4.247->gdelt-climaterisk) (3.4.1)\r\n",
      "Requirement already satisfied: urllib3<3,>=1.21.1 in /opt/hostedtoolcache/Python/3.9.21/x64/lib/python3.9/site-packages (from requests~=2.26->crawl4ai<0.5.0,>=0.4.247->gdelt-climaterisk) (2.3.0)\r\n",
      "Requirement already satisfied: markdown-it-py>=2.2.0 in /opt/hostedtoolcache/Python/3.9.21/x64/lib/python3.9/site-packages (from rich>=13.9.4->crawl4ai<0.5.0,>=0.4.247->gdelt-climaterisk) (3.0.0)\r\n"
     ]
    },
    {
     "name": "stdout",
     "output_type": "stream",
     "text": [
      "Requirement already satisfied: pygments<3.0.0,>=2.13.0 in /opt/hostedtoolcache/Python/3.9.21/x64/lib/python3.9/site-packages (from rich>=13.9.4->crawl4ai<0.5.0,>=0.4.247->gdelt-climaterisk) (2.19.1)\r\n",
      "Requirement already satisfied: fake-http-header<0.4.0,>=0.3.5 in /opt/hostedtoolcache/Python/3.9.21/x64/lib/python3.9/site-packages (from tf-playwright-stealth>=1.1.0->crawl4ai<0.5.0,>=0.4.247->gdelt-climaterisk) (0.3.5)\r\n",
      "Requirement already satisfied: cffi>=1.12 in /opt/hostedtoolcache/Python/3.9.21/x64/lib/python3.9/site-packages (from cryptography<45,>=41.0.5->pyOpenSSL>=24.3.0->crawl4ai<0.5.0,>=0.4.247->gdelt-climaterisk) (1.17.1)\r\n"
     ]
    },
    {
     "name": "stdout",
     "output_type": "stream",
     "text": [
      "Requirement already satisfied: aiohappyeyeballs>=2.3.0 in /opt/hostedtoolcache/Python/3.9.21/x64/lib/python3.9/site-packages (from aiohttp->datasets<=2.21.0,>=2.0.0->hyfi<2.0.0,>=1.36.4->gdelt-climaterisk) (2.6.1)\r\n",
      "Requirement already satisfied: aiosignal>=1.1.2 in /opt/hostedtoolcache/Python/3.9.21/x64/lib/python3.9/site-packages (from aiohttp->datasets<=2.21.0,>=2.0.0->hyfi<2.0.0,>=1.36.4->gdelt-climaterisk) (1.3.2)\r\n",
      "Requirement already satisfied: async-timeout<6.0,>=4.0 in /opt/hostedtoolcache/Python/3.9.21/x64/lib/python3.9/site-packages (from aiohttp->datasets<=2.21.0,>=2.0.0->hyfi<2.0.0,>=1.36.4->gdelt-climaterisk) (5.0.1)\r\n",
      "Requirement already satisfied: attrs>=17.3.0 in /opt/hostedtoolcache/Python/3.9.21/x64/lib/python3.9/site-packages (from aiohttp->datasets<=2.21.0,>=2.0.0->hyfi<2.0.0,>=1.36.4->gdelt-climaterisk) (25.3.0)\r\n",
      "Requirement already satisfied: frozenlist>=1.1.1 in /opt/hostedtoolcache/Python/3.9.21/x64/lib/python3.9/site-packages (from aiohttp->datasets<=2.21.0,>=2.0.0->hyfi<2.0.0,>=1.36.4->gdelt-climaterisk) (1.5.0)\r\n",
      "Requirement already satisfied: multidict<7.0,>=4.5 in /opt/hostedtoolcache/Python/3.9.21/x64/lib/python3.9/site-packages (from aiohttp->datasets<=2.21.0,>=2.0.0->hyfi<2.0.0,>=1.36.4->gdelt-climaterisk) (6.2.0)\r\n",
      "Requirement already satisfied: propcache>=0.2.0 in /opt/hostedtoolcache/Python/3.9.21/x64/lib/python3.9/site-packages (from aiohttp->datasets<=2.21.0,>=2.0.0->hyfi<2.0.0,>=1.36.4->gdelt-climaterisk) (0.3.0)\r\n",
      "Requirement already satisfied: yarl<2.0,>=1.17.0 in /opt/hostedtoolcache/Python/3.9.21/x64/lib/python3.9/site-packages (from aiohttp->datasets<=2.21.0,>=2.0.0->hyfi<2.0.0,>=1.36.4->gdelt-climaterisk) (1.18.3)\r\n",
      "Requirement already satisfied: zipp>=3.20 in /opt/hostedtoolcache/Python/3.9.21/x64/lib/python3.9/site-packages (from importlib-metadata>=6.8.0->litellm>=1.53.1->crawl4ai<0.5.0,>=0.4.247->gdelt-climaterisk) (3.21.0)\r\n"
     ]
    },
    {
     "name": "stdout",
     "output_type": "stream",
     "text": [
      "Requirement already satisfied: MarkupSafe>=2.0 in /opt/hostedtoolcache/Python/3.9.21/x64/lib/python3.9/site-packages (from jinja2<4.0.0,>=3.1.2->litellm>=1.53.1->crawl4ai<0.5.0,>=0.4.247->gdelt-climaterisk) (3.0.2)\r\n",
      "Requirement already satisfied: jsonschema-specifications>=2023.03.6 in /opt/hostedtoolcache/Python/3.9.21/x64/lib/python3.9/site-packages (from jsonschema<5.0.0,>=4.22.0->litellm>=1.53.1->crawl4ai<0.5.0,>=0.4.247->gdelt-climaterisk) (2024.10.1)\r\n",
      "Requirement already satisfied: referencing>=0.28.4 in /opt/hostedtoolcache/Python/3.9.21/x64/lib/python3.9/site-packages (from jsonschema<5.0.0,>=4.22.0->litellm>=1.53.1->crawl4ai<0.5.0,>=0.4.247->gdelt-climaterisk) (0.36.2)\r\n",
      "Requirement already satisfied: rpds-py>=0.7.1 in /opt/hostedtoolcache/Python/3.9.21/x64/lib/python3.9/site-packages (from jsonschema<5.0.0,>=4.22.0->litellm>=1.53.1->crawl4ai<0.5.0,>=0.4.247->gdelt-climaterisk) (0.23.1)\r\n",
      "Requirement already satisfied: mdurl~=0.1 in /opt/hostedtoolcache/Python/3.9.21/x64/lib/python3.9/site-packages (from markdown-it-py>=2.2.0->rich>=13.9.4->crawl4ai<0.5.0,>=0.4.247->gdelt-climaterisk) (0.1.2)\r\n",
      "Requirement already satisfied: distro<2,>=1.7.0 in /opt/hostedtoolcache/Python/3.9.21/x64/lib/python3.9/site-packages (from openai>=1.66.1->litellm>=1.53.1->crawl4ai<0.5.0,>=0.4.247->gdelt-climaterisk) (1.9.0)\r\n",
      "Requirement already satisfied: jiter<1,>=0.4.0 in /opt/hostedtoolcache/Python/3.9.21/x64/lib/python3.9/site-packages (from openai>=1.66.1->litellm>=1.53.1->crawl4ai<0.5.0,>=0.4.247->gdelt-climaterisk) (0.9.0)\r\n",
      "Requirement already satisfied: exceptiongroup>=1.0.2 in /opt/hostedtoolcache/Python/3.9.21/x64/lib/python3.9/site-packages (from anyio->httpx==0.27.2->crawl4ai<0.5.0,>=0.4.247->gdelt-climaterisk) (1.2.2)\r\n"
     ]
    },
    {
     "name": "stdout",
     "output_type": "stream",
     "text": [
      "Requirement already satisfied: PySocks!=1.5.7,>=1.5.6 in /opt/hostedtoolcache/Python/3.9.21/x64/lib/python3.9/site-packages (from requests[socks]->gdown<=5.2.0->hyfi<2.0.0,>=1.36.4->gdelt-climaterisk) (1.7.1)\r\n"
     ]
    },
    {
     "name": "stdout",
     "output_type": "stream",
     "text": [
      "Requirement already satisfied: pycparser in /opt/hostedtoolcache/Python/3.9.21/x64/lib/python3.9/site-packages (from cffi>=1.12->cryptography<45,>=41.0.5->pyOpenSSL>=24.3.0->crawl4ai<0.5.0,>=0.4.247->gdelt-climaterisk) (2.22)\r\n"
     ]
    },
    {
     "name": "stdout",
     "output_type": "stream",
     "text": [
      "Note: you may need to restart the kernel to use updated packages.\n"
     ]
    }
   ],
   "source": [
    "pip install gdelt-climaterisk"
   ]
  },
  {
   "cell_type": "markdown",
   "id": "b651ac5f",
   "metadata": {},
   "source": [
    "## Usage\n",
    "\n",
    "```python\n",
    "from gclimaterisk import get_version\n",
    "\n",
    "print(get_version())\n",
    "```"
   ]
  }
 ],
 "metadata": {
  "jupytext": {
   "cell_metadata_filter": "-all",
   "formats": "md:myst",
   "text_representation": {
    "extension": ".md",
    "format_name": "myst",
    "format_version": 0.13,
    "jupytext_version": "1.11.5"
   }
  },
  "kernelspec": {
   "display_name": "Python 3",
   "language": "python",
   "name": "python3"
  },
  "language_info": {
   "codemirror_mode": {
    "name": "ipython",
    "version": 3
   },
   "file_extension": ".py",
   "mimetype": "text/x-python",
   "name": "python",
   "nbconvert_exporter": "python",
   "pygments_lexer": "ipython3",
   "version": "3.9.21"
  },
  "source_map": [
   14,
   24,
   26
  ]
 },
 "nbformat": 4,
 "nbformat_minor": 5
}